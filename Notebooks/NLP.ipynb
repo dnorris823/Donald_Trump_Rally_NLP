{
 "metadata": {
  "language_info": {
   "codemirror_mode": {
    "name": "ipython",
    "version": 3
   },
   "file_extension": ".py",
   "mimetype": "text/x-python",
   "name": "python",
   "nbconvert_exporter": "python",
   "pygments_lexer": "ipython3",
   "version": "3.7.7-final"
  },
  "orig_nbformat": 2,
  "kernelspec": {
   "name": "Python 3.7.7 64-bit (conda)",
   "display_name": "Python 3.7.7 64-bit (conda)",
   "metadata": {
    "interpreter": {
     "hash": "f5c9dfabb21bd2a91b63810df81acbdc6b5e617e45414f0ef050ca96090c868f"
    }
   }
  }
 },
 "nbformat": 4,
 "nbformat_minor": 2,
 "cells": [
  {
   "cell_type": "code",
   "execution_count": 61,
   "metadata": {},
   "outputs": [],
   "source": [
    "import spacy\n",
    "import en_core_web_sm\n",
    "import pprint\n",
    "import pandas as pd"
   ]
  },
  {
   "cell_type": "code",
   "execution_count": 62,
   "metadata": {},
   "outputs": [],
   "source": [
    "nlp = spacy.load(\"en_core_web_sm\")"
   ]
  },
  {
   "cell_type": "code",
   "execution_count": 63,
   "metadata": {},
   "outputs": [],
   "source": [
    "list_of_files = [\"BattleCreekDec19_2019.txt\", \"BemidjiSep18_2020.txt\", \"CharlestonFeb28_2020.txt\", \"CharlotteMar2_2020.txt\", \n",
    "                \"CincinnatiAug1_2019.txt\", \"ColoradorSpringsFeb20_2020.txt\", \"DallasOct17_2019.txt\", \"DesMoinesJan30_2020.txt\",\n",
    "                \"FayettevilleSep9_2019.txt\", \"FayettevilleSep19_2020.txt\", \"FreelandSep10_2020.txt\", \"GreenvilleJul17_2019.txt\"]\n",
    "                #\"HendersonSep13_2020.txt\", \"HersheyDec10_2019.txt\" ,\"LasVegasFeb21_2020.txt\", \"LatrobeSep3_2020.txt\",\n",
    "                #\"LexingtonNov4_2019.txt\", \"MilwaukeeJan14_2020.txt\", \"MindenSep12_2020.txt\", \"MinneapolisOct10_2019.txt\",\n",
    "                #\"MosineeSep17_2020.txt\", \"NewHampshireAug15_2019.txt\", \"NewHampshireAug28_2020.txt\", \"NewHampshireFeb10_2020.txt\",\n",
    "                #\"NewMexicoSep16_2019.txt\", \"OhioSep21_2020.txt\", \"PhoenixFeb19_2020.txt\", \"PittsburghSep22_2020.txt\",\n",
    "                #\"TexasSep23_2019.txt\", \"ToledoJan9_2020.txt\", \"TulsaJun20_2020.txt\", \"TupeloNov1_2019.txt\",\n",
    "                #\"WildwoodJan28_2020.txt\", \"Winston-SalemSep8_2020.txt\", \"YumaAug18_2020.txt\"]\n",
    "with open('all_speeches.txt','wb') as newf:\n",
    "    for filename in list_of_files:\n",
    "        with open(\"../Data/archive/\" + filename,'rb') as hf:\n",
    "            newf.write(hf.read())\n",
    "            # newf.write('\\n\\n\\n')   if you want to introduce\n",
    "            # some blank lines between the contents of the copied files"
   ]
  },
  {
   "cell_type": "code",
   "execution_count": 64,
   "metadata": {},
   "outputs": [],
   "source": [
    "doc = nlp(open('all_speeches.txt').read())\n",
    "#doc = nlp(\"Dominic is getting a job in Seattle\")"
   ]
  },
  {
   "cell_type": "code",
   "execution_count": 65,
   "metadata": {
    "tags": []
   },
   "outputs": [],
   "source": [
    "text = []\n",
    "start_char = []\n",
    "end_char = []\n",
    "label = []\n",
    "\n",
    "for ent in doc.ents:\n",
    "    text.append(ent.text)\n",
    "    start_char.append(ent.start_char)\n",
    "    end_char.append(ent.end_char)\n",
    "    label.append(ent.label_)\n",
    "    #print(ent.text, ent.start_char, ent.end_char, ent.label_)\n",
    "\n",
    "data = pd.DataFrame(columns = [\"text\", \"start_char\", \"end_char\", \"label\"])\n",
    "data['text'] = text\n",
    "data['start_char'] = start_char\n",
    "data['end_char'] = end_char\n",
    "data['label'] = label"
   ]
  },
  {
   "cell_type": "code",
   "execution_count": 66,
   "metadata": {},
   "outputs": [
    {
     "output_type": "execute_result",
     "data": {
      "text/plain": [
       "                     text  start_char  end_char        label\n",
       "0                   Pence          50        55       PERSON\n",
       "1         Merry Christmas         111       126       PERSON\n",
       "2                Michigan         128       136          GPE\n",
       "3                Michigan         149       157          GPE\n",
       "4                Michigan         184       192          GPE\n",
       "5                     One         219       222     CARDINAL\n",
       "6               thousands         302       311     CARDINAL\n",
       "7               Christmas         367       376         DATE\n",
       "8                 America         395       402          GPE\n",
       "9                   Merry         490       495       PERSON\n",
       "10              Christmas         496       505         DATE\n",
       "11                  Merry         536       541       PERSON\n",
       "12              Christmas         542       551         DATE\n",
       "13                  first         571       576      ORDINAL\n",
       "14                  First         649       654      ORDINAL\n",
       "15   the Republican Party        1007      1027          ORG\n",
       "16               Michigan        1603      1611          GPE\n",
       "17          the best year        1618      1631         DATE\n",
       "18                  Japan        1764      1769          GPE\n",
       "19           10 years ago        1901      1913         DATE\n",
       "20             the Man Of        1935      1945       PERSON\n",
       "21               The Year        1946      1954        EVENT\n",
       "22             the Man Of        1991      2001       PERSON\n",
       "23               The Year        2002      2010        EVENT\n",
       "24               Michigan        2014      2022          GPE\n",
       "25             the Man Of        2247      2257       PERSON\n",
       "26               The Year        2258      2266        EVENT\n",
       "27  close to 10 years ago        2280      2301         DATE\n",
       "28               Michigan        2316      2324          GPE\n",
       "29    the Man Of The Year        2349      2368  WORK_OF_ART\n",
       "30                 Mexico        2555      2561          GPE\n",
       "31                  China        2577      2582          GPE\n",
       "32                  China        2607      2612          GPE\n",
       "33                  China        2633      2638          GPE\n",
       "34                  USMCA        2900      2905          ORG\n",
       "35                  NAFTA        2928      2933          ORG\n",
       "36                 Mexico        3298      3304          GPE\n",
       "37                 Canada        3311      3317          GPE\n",
       "38                 Canada        3422      3428          GPE\n",
       "39                   297%        3464      3468      PERCENT\n",
       "40                 Canada        3506      3512          GPE\n",
       "41                 Mexico        3553      3559          GPE\n",
       "42           Nancy Pelosi        3817      3829       PERSON\n",
       "43               New York        4097      4105          GPE\n",
       "44                    one        4307      4310     CARDINAL\n",
       "45              Democrats        4344      4353         NORP\n",
       "46           seven months        4430      4442         DATE\n",
       "47         the day before        4524      4538         DATE\n",
       "48                 Mexico        4679      4685          GPE\n",
       "49                 Canada        4692      4698          GPE"
      ],
      "text/html": "<div>\n<style scoped>\n    .dataframe tbody tr th:only-of-type {\n        vertical-align: middle;\n    }\n\n    .dataframe tbody tr th {\n        vertical-align: top;\n    }\n\n    .dataframe thead th {\n        text-align: right;\n    }\n</style>\n<table border=\"1\" class=\"dataframe\">\n  <thead>\n    <tr style=\"text-align: right;\">\n      <th></th>\n      <th>text</th>\n      <th>start_char</th>\n      <th>end_char</th>\n      <th>label</th>\n    </tr>\n  </thead>\n  <tbody>\n    <tr>\n      <th>0</th>\n      <td>Pence</td>\n      <td>50</td>\n      <td>55</td>\n      <td>PERSON</td>\n    </tr>\n    <tr>\n      <th>1</th>\n      <td>Merry Christmas</td>\n      <td>111</td>\n      <td>126</td>\n      <td>PERSON</td>\n    </tr>\n    <tr>\n      <th>2</th>\n      <td>Michigan</td>\n      <td>128</td>\n      <td>136</td>\n      <td>GPE</td>\n    </tr>\n    <tr>\n      <th>3</th>\n      <td>Michigan</td>\n      <td>149</td>\n      <td>157</td>\n      <td>GPE</td>\n    </tr>\n    <tr>\n      <th>4</th>\n      <td>Michigan</td>\n      <td>184</td>\n      <td>192</td>\n      <td>GPE</td>\n    </tr>\n    <tr>\n      <th>5</th>\n      <td>One</td>\n      <td>219</td>\n      <td>222</td>\n      <td>CARDINAL</td>\n    </tr>\n    <tr>\n      <th>6</th>\n      <td>thousands</td>\n      <td>302</td>\n      <td>311</td>\n      <td>CARDINAL</td>\n    </tr>\n    <tr>\n      <th>7</th>\n      <td>Christmas</td>\n      <td>367</td>\n      <td>376</td>\n      <td>DATE</td>\n    </tr>\n    <tr>\n      <th>8</th>\n      <td>America</td>\n      <td>395</td>\n      <td>402</td>\n      <td>GPE</td>\n    </tr>\n    <tr>\n      <th>9</th>\n      <td>Merry</td>\n      <td>490</td>\n      <td>495</td>\n      <td>PERSON</td>\n    </tr>\n    <tr>\n      <th>10</th>\n      <td>Christmas</td>\n      <td>496</td>\n      <td>505</td>\n      <td>DATE</td>\n    </tr>\n    <tr>\n      <th>11</th>\n      <td>Merry</td>\n      <td>536</td>\n      <td>541</td>\n      <td>PERSON</td>\n    </tr>\n    <tr>\n      <th>12</th>\n      <td>Christmas</td>\n      <td>542</td>\n      <td>551</td>\n      <td>DATE</td>\n    </tr>\n    <tr>\n      <th>13</th>\n      <td>first</td>\n      <td>571</td>\n      <td>576</td>\n      <td>ORDINAL</td>\n    </tr>\n    <tr>\n      <th>14</th>\n      <td>First</td>\n      <td>649</td>\n      <td>654</td>\n      <td>ORDINAL</td>\n    </tr>\n    <tr>\n      <th>15</th>\n      <td>the Republican Party</td>\n      <td>1007</td>\n      <td>1027</td>\n      <td>ORG</td>\n    </tr>\n    <tr>\n      <th>16</th>\n      <td>Michigan</td>\n      <td>1603</td>\n      <td>1611</td>\n      <td>GPE</td>\n    </tr>\n    <tr>\n      <th>17</th>\n      <td>the best year</td>\n      <td>1618</td>\n      <td>1631</td>\n      <td>DATE</td>\n    </tr>\n    <tr>\n      <th>18</th>\n      <td>Japan</td>\n      <td>1764</td>\n      <td>1769</td>\n      <td>GPE</td>\n    </tr>\n    <tr>\n      <th>19</th>\n      <td>10 years ago</td>\n      <td>1901</td>\n      <td>1913</td>\n      <td>DATE</td>\n    </tr>\n    <tr>\n      <th>20</th>\n      <td>the Man Of</td>\n      <td>1935</td>\n      <td>1945</td>\n      <td>PERSON</td>\n    </tr>\n    <tr>\n      <th>21</th>\n      <td>The Year</td>\n      <td>1946</td>\n      <td>1954</td>\n      <td>EVENT</td>\n    </tr>\n    <tr>\n      <th>22</th>\n      <td>the Man Of</td>\n      <td>1991</td>\n      <td>2001</td>\n      <td>PERSON</td>\n    </tr>\n    <tr>\n      <th>23</th>\n      <td>The Year</td>\n      <td>2002</td>\n      <td>2010</td>\n      <td>EVENT</td>\n    </tr>\n    <tr>\n      <th>24</th>\n      <td>Michigan</td>\n      <td>2014</td>\n      <td>2022</td>\n      <td>GPE</td>\n    </tr>\n    <tr>\n      <th>25</th>\n      <td>the Man Of</td>\n      <td>2247</td>\n      <td>2257</td>\n      <td>PERSON</td>\n    </tr>\n    <tr>\n      <th>26</th>\n      <td>The Year</td>\n      <td>2258</td>\n      <td>2266</td>\n      <td>EVENT</td>\n    </tr>\n    <tr>\n      <th>27</th>\n      <td>close to 10 years ago</td>\n      <td>2280</td>\n      <td>2301</td>\n      <td>DATE</td>\n    </tr>\n    <tr>\n      <th>28</th>\n      <td>Michigan</td>\n      <td>2316</td>\n      <td>2324</td>\n      <td>GPE</td>\n    </tr>\n    <tr>\n      <th>29</th>\n      <td>the Man Of The Year</td>\n      <td>2349</td>\n      <td>2368</td>\n      <td>WORK_OF_ART</td>\n    </tr>\n    <tr>\n      <th>30</th>\n      <td>Mexico</td>\n      <td>2555</td>\n      <td>2561</td>\n      <td>GPE</td>\n    </tr>\n    <tr>\n      <th>31</th>\n      <td>China</td>\n      <td>2577</td>\n      <td>2582</td>\n      <td>GPE</td>\n    </tr>\n    <tr>\n      <th>32</th>\n      <td>China</td>\n      <td>2607</td>\n      <td>2612</td>\n      <td>GPE</td>\n    </tr>\n    <tr>\n      <th>33</th>\n      <td>China</td>\n      <td>2633</td>\n      <td>2638</td>\n      <td>GPE</td>\n    </tr>\n    <tr>\n      <th>34</th>\n      <td>USMCA</td>\n      <td>2900</td>\n      <td>2905</td>\n      <td>ORG</td>\n    </tr>\n    <tr>\n      <th>35</th>\n      <td>NAFTA</td>\n      <td>2928</td>\n      <td>2933</td>\n      <td>ORG</td>\n    </tr>\n    <tr>\n      <th>36</th>\n      <td>Mexico</td>\n      <td>3298</td>\n      <td>3304</td>\n      <td>GPE</td>\n    </tr>\n    <tr>\n      <th>37</th>\n      <td>Canada</td>\n      <td>3311</td>\n      <td>3317</td>\n      <td>GPE</td>\n    </tr>\n    <tr>\n      <th>38</th>\n      <td>Canada</td>\n      <td>3422</td>\n      <td>3428</td>\n      <td>GPE</td>\n    </tr>\n    <tr>\n      <th>39</th>\n      <td>297%</td>\n      <td>3464</td>\n      <td>3468</td>\n      <td>PERCENT</td>\n    </tr>\n    <tr>\n      <th>40</th>\n      <td>Canada</td>\n      <td>3506</td>\n      <td>3512</td>\n      <td>GPE</td>\n    </tr>\n    <tr>\n      <th>41</th>\n      <td>Mexico</td>\n      <td>3553</td>\n      <td>3559</td>\n      <td>GPE</td>\n    </tr>\n    <tr>\n      <th>42</th>\n      <td>Nancy Pelosi</td>\n      <td>3817</td>\n      <td>3829</td>\n      <td>PERSON</td>\n    </tr>\n    <tr>\n      <th>43</th>\n      <td>New York</td>\n      <td>4097</td>\n      <td>4105</td>\n      <td>GPE</td>\n    </tr>\n    <tr>\n      <th>44</th>\n      <td>one</td>\n      <td>4307</td>\n      <td>4310</td>\n      <td>CARDINAL</td>\n    </tr>\n    <tr>\n      <th>45</th>\n      <td>Democrats</td>\n      <td>4344</td>\n      <td>4353</td>\n      <td>NORP</td>\n    </tr>\n    <tr>\n      <th>46</th>\n      <td>seven months</td>\n      <td>4430</td>\n      <td>4442</td>\n      <td>DATE</td>\n    </tr>\n    <tr>\n      <th>47</th>\n      <td>the day before</td>\n      <td>4524</td>\n      <td>4538</td>\n      <td>DATE</td>\n    </tr>\n    <tr>\n      <th>48</th>\n      <td>Mexico</td>\n      <td>4679</td>\n      <td>4685</td>\n      <td>GPE</td>\n    </tr>\n    <tr>\n      <th>49</th>\n      <td>Canada</td>\n      <td>4692</td>\n      <td>4698</td>\n      <td>GPE</td>\n    </tr>\n  </tbody>\n</table>\n</div>"
     },
     "metadata": {},
     "execution_count": 66
    }
   ],
   "source": [
    "data.head(50)"
   ]
  },
  {
   "cell_type": "code",
   "execution_count": 68,
   "metadata": {},
   "outputs": [
    {
     "output_type": "execute_result",
     "data": {
      "text/plain": [
       "one                  259\n",
       "America              217\n",
       "American             213\n",
       "China                153\n",
       "Democrats            143\n",
       "Michigan             125\n",
       "first                109\n",
       "North Carolina        96\n",
       "two                   96\n",
       "Texas                 81\n",
       "Democrat              79\n",
       "the United States     76\n",
       "Trump                 74\n",
       "Biden                 67\n",
       "Russia                65\n",
       "Joe                   53\n",
       "Republican            51\n",
       "Americans             50\n",
       "Republicans           50\n",
       "Mexico                49\n",
       "Ohio                  49\n",
       "tonight               49\n",
       "today                 49\n",
       "years                 46\n",
       "Bernie                44\n",
       "three                 43\n",
       "South Carolina        41\n",
       "second                41\n",
       "Minnesota             40\n",
       "Congress              39\n",
       "Iowa                  37\n",
       "Obama                 36\n",
       "Washington            36\n",
       "Mike                  35\n",
       "Donald Trump          35\n",
       "One                   35\n",
       "Israel                32\n",
       "Sleepy Joe            31\n",
       "thousands             29\n",
       "Colorado              28\n",
       "four                  28\n",
       "Europe                28\n",
       "Hillary               27\n",
       "Joe Biden             27\n",
       "Jerusalem             25\n",
       "last night            24\n",
       "USA                   24\n",
       "First                 24\n",
       "three years           24\n",
       "Maine                 23\n",
       "Name: text, dtype: int64"
      ]
     },
     "metadata": {},
     "execution_count": 68
    }
   ],
   "source": [
    "data['text'].value_counts().head(50)"
   ]
  },
  {
   "cell_type": "code",
   "execution_count": 69,
   "metadata": {},
   "outputs": [
    {
     "output_type": "execute_result",
     "data": {
      "text/plain": [
       "GPE            1873\n",
       "PERSON         1590\n",
       "CARDINAL       1238\n",
       "DATE           1117\n",
       "NORP            766\n",
       "ORG             726\n",
       "MONEY           270\n",
       "ORDINAL         203\n",
       "TIME            172\n",
       "PERCENT         157\n",
       "LOC             126\n",
       "WORK_OF_ART      58\n",
       "FAC              38\n",
       "PRODUCT          37\n",
       "QUANTITY         37\n",
       "LAW              28\n",
       "EVENT            24\n",
       "Name: label, dtype: int64"
      ]
     },
     "metadata": {},
     "execution_count": 69
    }
   ],
   "source": [
    "data['label'].value_counts().head(50)"
   ]
  },
  {
   "cell_type": "code",
   "execution_count": 79,
   "metadata": {},
   "outputs": [],
   "source": [
    "subset = data[data['label'] == \"LOC\"]"
   ]
  },
  {
   "cell_type": "code",
   "execution_count": 80,
   "metadata": {},
   "outputs": [
    {
     "output_type": "execute_result",
     "data": {
      "text/plain": [
       "Europe               28\n",
       "Biden                27\n",
       "earth                12\n",
       "the Golan Heights    10\n",
       "Mars                  9\n",
       "the Middle East       8\n",
       "Asia                  4\n",
       "Midwest               3\n",
       "Make America          3\n",
       "Central Park          2\n",
       "Earth                 2\n",
       "the Pacific ocean     2\n",
       "the Iron Range        1\n",
       "South                 1\n",
       "North                 1\n",
       "Middle East           1\n",
       "the Rio Grande        1\n",
       "Iron Range            1\n",
       "Commicast             1\n",
       "the Planet Earth      1\n",
       "the moon              1\n",
       "drip                  1\n",
       "West Point            1\n",
       "the Red River         1\n",
       "Concast               1\n",
       "Rockies               1\n",
       "The Golan Heights     1\n",
       "Caliphate             1\n",
       "Name: text, dtype: int64"
      ]
     },
     "metadata": {},
     "execution_count": 80
    }
   ],
   "source": [
    "subset['text'].value_counts().head(50)"
   ]
  },
  {
   "cell_type": "code",
   "execution_count": null,
   "metadata": {},
   "outputs": [],
   "source": []
  }
 ]
}